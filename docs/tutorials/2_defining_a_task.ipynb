{
 "cells": [
  {
   "cell_type": "markdown",
   "metadata": {},
   "source": [
    "## Defining a Task\n",
    "\n",
    "In the last tutorial we learned the basic structure of a `NeuralTree`. In this section we will explore `Task` objects, which define the interface\n",
    "between a `NeuralTree` and the datasets we will use to train it."
   ]
  },
  {
   "cell_type": "markdown",
   "metadata": {},
   "source": [
    "### A Dataset\n",
    "\n",
    "Every task starts with a dataset. In this example we will use the GFP fluorescence dataset (TODO add link)."
   ]
  },
  {
   "cell_type": "code",
   "execution_count": 1,
   "metadata": {},
   "outputs": [
    {
     "name": "stderr",
     "output_type": "stream",
     "text": [
      "100%|██████████| 1410354/1410354 [00:00<00:00, 1483539.84it/s]\n"
     ]
    },
    {
     "data": {
      "text/plain": [
       "OrderedDict([('tokenized_seq',\n",
       "              'S K G E E L F T G V V P I L V E L D G D V N G H K F S V S G E G E G D A T Y G K L T L K F I C T T G K L P V P W P T L V T T L S Y G V Q C F S R Y P D H M K Q H D F F K S A M P E G Y V Q E R T I F F K D D G N Y K T R A E V K F E G D T L V N R I E L K G I D F K E D G N I L G H K L E Y N Y N S H N V Y I M A D K Q K N G I K V N F K I R H K I E D G S V Q L A D H Y Q Q N T P I G D G P V L L P D N H Y L S T Q S A L S K D P N E K R D H M V L L E F V T A A G I T H G M D E R Y K'),\n",
       "             ('log_fluorescence', 3.8237006664276123)])"
      ]
     },
     "execution_count": 1,
     "metadata": {},
     "output_type": "execute_result"
    }
   ],
   "source": [
    "from cortex.data.dataset import TAPEFluorescenceDataset\n",
    "\n",
    "dataset = TAPEFluorescenceDataset(\n",
    "    root='./.cache',\n",
    "    download=True,\n",
    "    train=True,\n",
    ")\n",
    "dataset[0]"
   ]
  },
  {
   "cell_type": "markdown",
   "metadata": {},
   "source": [
    "### A Task Data Module\n",
    "\n",
    "The `cortex` package uses the `lightning` package to handle data loading and distributed training. \n",
    "The `TaskDataModule` subclasses `lightning.DataModule`."
   ]
  },
  {
   "cell_type": "code",
   "execution_count": 2,
   "metadata": {},
   "outputs": [
    {
     "name": "stderr",
     "output_type": "stream",
     "text": [
      "/Users/stantos5/.venv/cortex-docs/lib/python3.10/site-packages/tqdm/auto.py:21: TqdmWarning: IProgress not found. Please update jupyter and ipywidgets. See https://ipywidgets.readthedocs.io/en/stable/user_install.html\n",
      "  from .autonotebook import tqdm as notebook_tqdm\n"
     ]
    },
    {
     "name": "stdout",
     "output_type": "stream",
     "text": [
      "OrderedDict([('tokenized_seq', ['S K G E E L F T G A V P I L V E L D G D V N G H K F S V S G E G E G D A T Y G K L T L K F I C T T G K L P V P W P T L V T T L S Y G V Q C F S R Y P D H M K Q H D F F K S A M P E G Y V Q E R A I F F K D D G N Y K T R A E V K F E G D T L V N R I E L K G I D F K E D G N I L G H K L E Y N Y N S H N V Y I M A D K Q K N G I K V N F K I R H N I E D G S V Q L A D H Y Q Q D T P I G D G P V L L P D N H Y L S T Q S A L S K D P N E K R D H M V L L E F V T A A G I T H G M D E L Y K', 'S K G E E L F T G V V P I L V E L D G D V N G H K F S V S G E G E G D A T Y G K L T L K F I C T S G E L P V P W P T L V T T L S Y G V Q C F S R Y P D H M K Q H D F F K S A M P E G Y V Q E R T I F F K D D G N Y K T R A E V K F E G D T L V N R I E L K G I D F K E D G N I L G H K L E Y N Y N S H N V Y I M A D K Q K N G I K V N F K I R H N I E D G S V Q L A D H Y Q Q N T P I G D G P V L L P D N H Y L S T Q S A L S K D P N E K R D H M V L L E F V T A A G I T H G M D E L Y K']), ('log_fluorescence', [3.60603666305542, 3.6902973651885986]), ('batch_size', 2)])\n"
     ]
    }
   ],
   "source": [
    "from cortex.data.data_module import TaskDataModule\n",
    "from omegaconf import DictConfig\n",
    "\n",
    "dataset_cfg = DictConfig(\n",
    "    {\n",
    "        '_target_': 'cortex.data.dataset.TAPEFluorescenceDataset',\n",
    "        'root': './.cache',\n",
    "        'download': True,\n",
    "        'train': \"???\"\n",
    "    }\n",
    ")\n",
    "\n",
    "data_module = TaskDataModule(\n",
    "    batch_size=2,\n",
    "    dataset_config=dataset_cfg,\n",
    ")\n",
    "\n",
    "train_loader = data_module.train_dataloader()\n",
    "batch = next(iter(train_loader))\n",
    "print(batch)"
   ]
  },
  {
   "cell_type": "markdown",
   "metadata": {},
   "source": [
    "### A Task object\n",
    "\n",
    "A task object in `cortex` determines how a batch of data from a dataloader is passed to a `NeuralTree` during training."
   ]
  },
  {
   "cell_type": "code",
   "execution_count": 3,
   "metadata": {},
   "outputs": [
    {
     "name": "stdout",
     "output_type": "stream",
     "text": [
      "{'root_inputs': {'protein_seq': {'inputs': array([['S K G E E L F T G A V P I L V E L D G D V N G H K F S V S G E G E G D A T Y G K L T L K F I C T T G K L P V P W P T L V T T L S Y G V Q C F S R Y P D H M K Q H D F F K S A M P E G Y V Q E R A I F F K D D G N Y K T R A E V K F E G D T L V N R I E L K G I D F K E D G N I L G H K L E Y N Y N S H N V Y I M A D K Q K N G I K V N F K I R H N I E D G S V Q L A D H Y Q Q D T P I G D G P V L L P D N H Y L S T Q S A L S K D P N E K R D H M V L L E F V T A A G I T H G M D E L Y K'],\n",
      "       ['S K G E E L F T G V V P I L V E L D G D V N G H K F S V S G E G E G D A T Y G K L T L K F I C T S G E L P V P W P T L V T T L S Y G V Q C F S R Y P D H M K Q H D F F K S A M P E G Y V Q E R T I F F K D D G N Y K T R A E V K F E G D T L V N R I E L K G I D F K E D G N I L G H K L E Y N Y N S H N V Y I M A D K Q K N G I K V N F K I R H N I E D G S V Q L A D H Y Q Q N T P I G D G P V L L P D N H Y L S T Q S A L S K D P N E K R D H M V L L E F V T A A G I T H G M D E L Y K']],\n",
      "      dtype='<U473'), 'corrupt_frac': None}}, 'leaf_targets': {'log_fluorescence_0': {'targets': array([[3.60603666],\n",
      "       [3.69029737]])}}}\n"
     ]
    }
   ],
   "source": [
    "from cortex.task import RegressionTask\n",
    "\n",
    "task = RegressionTask(\n",
    "    data_module=data_module,\n",
    "    input_map={\"protein_seq\": [\"tokenized_seq\"]},  # {root_key: [input_key]}\n",
    "    outcome_cols=[\"log_fluorescence\"],  # [*target_keys]\n",
    "    leaf_key=\"log_fluorescence_0\"  # name of leaf node\n",
    ")\n",
    "\n",
    "formatted_batch = task.format_batch(batch)\n",
    "print(formatted_batch)"
   ]
  },
  {
   "cell_type": "markdown",
   "metadata": {},
   "source": [
    "## Usage\n",
    "\n",
    "Now we will instantiate the a `NeuralTree` similar to the last tutorial, however we will use Hydra to simplify the instantiation."
   ]
  },
  {
   "cell_type": "code",
   "execution_count": 4,
   "metadata": {},
   "outputs": [
    {
     "name": "stderr",
     "output_type": "stream",
     "text": [
      "/var/folders/yh/yjy4n_mn0c98wplbl82vv0dm0000gp/T/ipykernel_89285/877463992.py:4: UserWarning: \n",
      "The version_base parameter is not specified.\n",
      "Please specify a compatability version level, or None.\n",
      "Will assume defaults for version 1.1\n",
      "  with hydra.initialize(config_path=\"./hydra\"):\n",
      "/Users/stantos5/.venv/cortex-docs/lib/python3.10/site-packages/hydra/_internal/defaults_list.py:251: UserWarning: In '2_defining_a_task': Defaults list is missing `_self_`. See https://hydra.cc/docs/1.2/upgrades/1.0_to_1.1/default_composition_order for more information\n",
      "  warnings.warn(msg, UserWarning)\n"
     ]
    },
    {
     "name": "stdout",
     "output_type": "stream",
     "text": [
      "using vocab from /Users/stantos5/.venv/cortex-docs/lib/python3.10/site-packages/cortex/assets/protein_seq_tokenizer_32/vocab.txt\n"
     ]
    },
    {
     "data": {
      "text/plain": [
       "SequenceModelTree(\n",
       "  (root_nodes): ModuleDict(\n",
       "    (protein_seq): Conv1dRoot(\n",
       "      (tok_encoder): Embedding(32, 32, padding_idx=1)\n",
       "      (pos_encoder): SinePosEncoder(\n",
       "        (dropout): Dropout(p=0.0, inplace=False)\n",
       "      )\n",
       "      (encoder): Sequential(\n",
       "        (0): Apply(\n",
       "          (module): Expression()\n",
       "        )\n",
       "        (1): Conv1dResidBlock(\n",
       "          (conv_1): Conv1d(32, 32, kernel_size=(3,), stride=(1,), padding=same, bias=False)\n",
       "          (conv_2): Conv1d(32, 32, kernel_size=(3,), stride=(1,), padding=same, bias=False)\n",
       "          (norm_1): MaskLayerNorm1d((32, 1), eps=1e-05, elementwise_affine=True)\n",
       "          (norm_2): MaskLayerNorm1d((32, 1), eps=1e-05, elementwise_affine=True)\n",
       "          (dropout): Dropout(p=0.0, inplace=False)\n",
       "        )\n",
       "        (2): Conv1dResidBlock(\n",
       "          (conv_1): Conv1d(32, 32, kernel_size=(3,), stride=(1,), padding=same, bias=False)\n",
       "          (conv_2): Conv1d(32, 32, kernel_size=(3,), stride=(1,), padding=same, bias=False)\n",
       "          (norm_1): MaskLayerNorm1d((32, 1), eps=1e-05, elementwise_affine=True)\n",
       "          (norm_2): MaskLayerNorm1d((32, 1), eps=1e-05, elementwise_affine=True)\n",
       "          (dropout): Dropout(p=0.0, inplace=False)\n",
       "        )\n",
       "        (3): Apply(\n",
       "          (module): Expression()\n",
       "        )\n",
       "      )\n",
       "      (train_transform): Sequential(\n",
       "        (0): HuggingFaceTokenizerTransform()\n",
       "        (1): ToTensor()\n",
       "        (2): PadTransform()\n",
       "      )\n",
       "      (eval_transform): Sequential(\n",
       "        (0): HuggingFaceTokenizerTransform()\n",
       "        (1): ToTensor()\n",
       "        (2): PadTransform()\n",
       "      )\n",
       "    )\n",
       "  )\n",
       "  (branch_nodes): ModuleDict(\n",
       "    (protein_property_0): Conv1dBranch(\n",
       "      (encoder): Sequential(\n",
       "        (0): Apply(\n",
       "          (module): Linear(in_features=32, out_features=8, bias=False)\n",
       "        )\n",
       "      )\n",
       "      (pooling_op): MeanPooling()\n",
       "    )\n",
       "  )\n",
       "  (leaf_nodes): ModuleDict(\n",
       "    (log_fluorescence_0): RegressorLeaf(\n",
       "      (encoder): Sequential(\n",
       "        (0): Linear(in_features=8, out_features=2, bias=True)\n",
       "      )\n",
       "      (outcome_transform): DDPStandardize()\n",
       "    )\n",
       "  )\n",
       "  (trunk_node): SumTrunk(\n",
       "    (encoder): Expression()\n",
       "  )\n",
       ")"
      ]
     },
     "execution_count": 4,
     "metadata": {},
     "output_type": "execute_result"
    }
   ],
   "source": [
    "import hydra\n",
    "from omegaconf import OmegaConf\n",
    "\n",
    "with hydra.initialize(config_path=\"./hydra\"):\n",
    "    cfg = hydra.compose(config_name=\"2_defining_a_task\")\n",
    "    OmegaConf.set_struct(cfg, False)\n",
    "\n",
    "tree = hydra.utils.instantiate(cfg.tree)\n",
    "tree.build_tree(cfg)\n",
    "tree"
   ]
  },
  {
   "cell_type": "code",
   "execution_count": 5,
   "metadata": {},
   "outputs": [
    {
     "data": {
      "text/plain": [
       "tensor([[0.0381],\n",
       "        [0.0486]], grad_fn=<MulBackward0>)"
      ]
     },
     "execution_count": 5,
     "metadata": {},
     "output_type": "execute_result"
    }
   ],
   "source": [
    "tree_output = tree(formatted_batch[\"root_inputs\"])\n",
    "tree_output.leaf_outputs[\"log_fluorescence_0\"].loc"
   ]
  },
  {
   "cell_type": "markdown",
   "metadata": {},
   "source": [
    "### Computing a task loss"
   ]
  },
  {
   "cell_type": "code",
   "execution_count": 6,
   "metadata": {},
   "outputs": [
    {
     "name": "stdout",
     "output_type": "stream",
     "text": [
      "tensor(19.7825, grad_fn=<MulBackward0>)\n"
     ]
    }
   ],
   "source": [
    "leaf_key = \"log_fluorescence_0\"\n",
    "leaf_node = tree.leaf_nodes[leaf_key]\n",
    "\n",
    "loss = leaf_node.loss(\n",
    "    leaf_outputs=tree_output.leaf_outputs[leaf_key],\n",
    "    root_outputs=tree_output.root_outputs[\"protein_seq\"],\n",
    "    **formatted_batch[\"leaf_targets\"][leaf_key]\n",
    ")\n",
    "print(loss)"
   ]
  },
  {
   "cell_type": "markdown",
   "metadata": {},
   "source": [
    "### Evaluating task output"
   ]
  },
  {
   "cell_type": "code",
   "execution_count": 7,
   "metadata": {},
   "outputs": [
    {
     "data": {
      "text/plain": [
       "{'nll': 19.782459259033203,\n",
       " 'nrmse': 0.9881033301353455,\n",
       " 's_rho': 0.9999999999999999}"
      ]
     },
     "execution_count": 7,
     "metadata": {},
     "output_type": "execute_result"
    }
   ],
   "source": [
    "leaf_node.evaluate(\n",
    "    outputs=tree_output.leaf_outputs[leaf_key],\n",
    "    **formatted_batch[\"leaf_targets\"][leaf_key]\n",
    ")"
   ]
  },
  {
   "cell_type": "code",
   "execution_count": null,
   "metadata": {},
   "outputs": [],
   "source": []
  }
 ],
 "metadata": {
  "kernelspec": {
   "display_name": "cortex-docs",
   "language": "python",
   "name": "python3"
  },
  "language_info": {
   "codemirror_mode": {
    "name": "ipython",
    "version": 3
   },
   "file_extension": ".py",
   "mimetype": "text/x-python",
   "name": "python",
   "nbconvert_exporter": "python",
   "pygments_lexer": "ipython3",
   "version": "3.10.16"
  }
 },
 "nbformat": 4,
 "nbformat_minor": 2
}
